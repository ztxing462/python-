{
 "cells": [
  {
   "cell_type": "code",
   "execution_count": 2,
   "metadata": {},
   "outputs": [],
   "source": [
    "#导入库并产生数据\n",
    "import math\n",
    "import numpy as np\n",
    "import torch\n",
    "from torch.utils import data\n",
    "import random\n",
    "\n",
    "#定义正态分布\n",
    "def normal(x,mu,sigma):\n",
    "    p=1/math.sqrt(2*math.pi*sigma*sigma)\n",
    "    return p*np.exp(-0.5/sigma**2 *(x-mu)**2)\n",
    "\n",
    "#制造数据集 y=Xw+b+噪声\n",
    "def synthetic_data(w, b, num_examples): \n",
    "    X = torch.normal(0, 1, (num_examples, len(w)))\n",
    "    y = torch.matmul(X, w) + b\n",
    "    y += torch.normal(0, 0.01, y.shape)\n",
    "    return X, y.reshape((-1, 1))\n",
    "\n",
    "true_w = torch.tensor([2, -3.4])\n",
    "true_b = 4.2\n",
    "features, labels = synthetic_data(true_w, true_b, 100)"
   ]
  },
  {
   "cell_type": "code",
   "execution_count": 3,
   "metadata": {},
   "outputs": [
    {
     "name": "stdout",
     "output_type": "stream",
     "text": [
      "[tensor([[-0.3579,  1.4741],\n",
      "        [ 0.0645,  0.1303],\n",
      "        [-0.6813,  0.3311],\n",
      "        [-1.1359, -0.5278],\n",
      "        [ 1.1961, -1.6108],\n",
      "        [-1.1505, -1.2158],\n",
      "        [-0.0079,  0.4013],\n",
      "        [-2.2382,  0.6464],\n",
      "        [ 0.4329, -0.5733],\n",
      "        [-2.0820,  0.2611]]), tensor([[-1.5409],\n",
      "        [ 3.8748],\n",
      "        [ 1.7072],\n",
      "        [ 3.7083],\n",
      "        [12.0702],\n",
      "        [ 6.0219],\n",
      "        [ 2.8221],\n",
      "        [-2.4616],\n",
      "        [ 7.0099],\n",
      "        [-0.8344]])]\n"
     ]
    }
   ],
   "source": [
    "#\"\"\"构造⼀个PyTorch数据迭代器\"\"\"\n",
    "def load_array(data_arrays, batch_size, is_train=True): \n",
    "    dataset = data.TensorDataset(*data_arrays)\n",
    "    return data.DataLoader(dataset, batch_size, shuffle=is_train)\n",
    "batch_size = 10\n",
    "data_iter = load_array((features, labels), batch_size)\n",
    "print(next(iter(data_iter)))"
   ]
  },
  {
   "cell_type": "code",
   "execution_count": 4,
   "metadata": {},
   "outputs": [],
   "source": [
    "#建立模型\n",
    "from torch import nn\n",
    "#nn.linear第一个参数为输入的特征，第二个为输出量\n",
    "net=nn.Sequential(nn.Linear(2,1))\n",
    "#初始化模型参数\n",
    "net[0].weight.data.normal_(0, 0.01)\n",
    "net[0].bias.data.fill_(0)\n",
    "#定义损失函数\n",
    "loss = nn.MSELoss()\n",
    "#定义优化器\n",
    "sgd=torch.optim.SGD([{\"params\":net[0].weight,'weight_decay': 0.03},\n",
    "{\"params\":net[0].bias}], lr=0.1)\n"
   ]
  },
  {
   "cell_type": "code",
   "execution_count": 5,
   "metadata": {},
   "outputs": [
    {
     "name": "stdout",
     "output_type": "stream",
     "text": [
      "epoch 1, loss 0.327184\n",
      "epoch 2, loss 0.007667\n",
      "epoch 3, loss 0.003351\n",
      "epoch 4, loss 0.003138\n",
      "epoch 5, loss 0.003384\n",
      "epoch 6, loss 0.002787\n",
      "epoch 7, loss 0.003684\n",
      "epoch 8, loss 0.002339\n",
      "epoch 9, loss 0.002739\n",
      "epoch 10, loss 0.003299\n",
      "[tensor([ 2.0000, -3.4000]), 4.2]\n",
      "[tensor([[ 1.9746, -3.3536]]), tensor([4.1969])]\n"
     ]
    },
    {
     "name": "stderr",
     "output_type": "stream",
     "text": [
      "C:\\Users\\11215\\anaconda3\\lib\\site-packages\\torch\\autograd\\__init__.py:173: UserWarning: CUDA initialization: CUDA driver initialization failed, you might not have a CUDA gpu. (Triggered internally at  C:\\cb\\pytorch_1000000000000\\work\\c10\\cuda\\CUDAFunctions.cpp:112.)\n",
      "  Variable._execution_engine.run_backward(  # Calls into the C++ engine to run the backward pass\n"
     ]
    }
   ],
   "source": [
    "num_epochs = 10\n",
    "for epoch in range(num_epochs):\n",
    "    for X,y in data_iter:\n",
    "        l=loss(net(X),y)\n",
    "        sgd.zero_grad()\n",
    "        l.backward()\n",
    "        sgd.step()\n",
    "    l=loss(net(features), labels)\n",
    "    print(f'epoch {epoch + 1}, loss {float(l):f}')\n",
    "\n",
    "print([true_w,true_b])\n",
    "print([net[0].weight.data,net[0].bias.data])"
   ]
  },
  {
   "cell_type": "code",
   "execution_count": 6,
   "metadata": {},
   "outputs": [],
   "source": [
    "#建立模型\n",
    "from torch import nn\n",
    "#nn.linear第一个参数为输入的特征，第二个为输出量\n",
    "net=nn.Sequential(nn.Linear(2,1))\n",
    "#初始化模型参数\n",
    "net[0].weight.data.normal_(0, 0.01)\n",
    "net[0].bias.data.fill_(0)\n",
    "#定义损失函数\n",
    "loss = nn.SmoothL1Loss()\n",
    "#定义优化器\n",
    "sgd=torch.optim.SGD(net.parameters(), lr=0.03)\n"
   ]
  },
  {
   "cell_type": "code",
   "execution_count": 7,
   "metadata": {},
   "outputs": [
    {
     "name": "stdout",
     "output_type": "stream",
     "text": [
      "epoch 1, loss 4.162839\n",
      "epoch 2, loss 3.949262\n",
      "epoch 3, loss 3.736193\n",
      "epoch 4, loss 3.523710\n",
      "epoch 5, loss 3.311804\n",
      "epoch 6, loss 3.100526\n",
      "epoch 7, loss 2.889958\n",
      "epoch 8, loss 2.680083\n",
      "epoch 9, loss 2.470948\n",
      "epoch 10, loss 2.262843\n",
      "[tensor([ 2.0000, -3.4000]), 4.2]\n",
      "[tensor([[ 0.9426, -1.5283]]), tensor([1.7682])]\n"
     ]
    }
   ],
   "source": [
    "num_epochs = 10\n",
    "for epoch in range(num_epochs):\n",
    "    for X,y in data_iter:\n",
    "        l=loss(net(X),y)\n",
    "        sgd.zero_grad()\n",
    "        l.backward()\n",
    "        sgd.step()\n",
    "    l=loss(net(features), labels)\n",
    "    print(f'epoch {epoch + 1}, loss {float(l):f}')\n",
    "\n",
    "print([true_w,true_b])\n",
    "print([net[0].weight.data,net[0].bias.data])"
   ]
  }
 ],
 "metadata": {
  "interpreter": {
   "hash": "5646ec4dec4c73e2edc6806a566893c963d85d6972369737a3a21ba4ee73baa1"
  },
  "kernelspec": {
   "display_name": "Python 3 (ipykernel)",
   "language": "python",
   "name": "python3"
  },
  "language_info": {
   "codemirror_mode": {
    "name": "ipython",
    "version": 3
   },
   "file_extension": ".py",
   "mimetype": "text/x-python",
   "name": "python",
   "nbconvert_exporter": "python",
   "pygments_lexer": "ipython3",
   "version": "3.9.7"
  }
 },
 "nbformat": 4,
 "nbformat_minor": 2
}
