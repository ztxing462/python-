{
 "cells": [
  {
   "cell_type": "markdown",
   "metadata": {},
   "source": [
    "## 常见的激活函数"
   ]
  },
  {
   "cell_type": "code",
   "execution_count": null,
   "metadata": {},
   "outputs": [],
   "source": [
    "%matplotlib inline\n",
    "import torch\n",
    "import matplotlib.pyplot as plt"
   ]
  },
  {
   "cell_type": "code",
   "execution_count": 22,
   "metadata": {},
   "outputs": [
    {
     "data": {
      "text/plain": [
       "[<matplotlib.lines.Line2D at 0x2475d1f7bb0>]"
      ]
     },
     "execution_count": 22,
     "metadata": {},
     "output_type": "execute_result"
    },
    {
     "data": {
      "image/png": "[encoded data removed]",
      "text/plain": [
       "<Figure size 432x288 with 2 Axes>"
      ]
     },
     "metadata": {
      "needs_background": "light"
     },
     "output_type": "display_data"
    }
   ],
   "source": [
    "#ReLU\n",
    "plt.figure(1)\n",
    "ax1=plt.subplot(1,2,1)\n",
    "x1=torch.arange(-5,5,0.1,requires_grad=True)\n",
    "y1=torch.relu(x1)\n",
    "plt.plot(x1.detach().numpy(),y1.detach().numpy())\n",
    "plt.xlabel('x')\n",
    "plt.ylabel('relu(x)')\n",
    "ax1=plt.subplot(1,2,2)\n",
    "y1.backward(torch.ones_like(x1), retain_graph=True)\n",
    "plt.plot(x1.detach().numpy(),x1.grad)"
   ]
  },
  {
   "cell_type": "code",
   "execution_count": 23,
   "metadata": {},
   "outputs": [
    {
     "data": {
      "text/plain": [
       "[<matplotlib.lines.Line2D at 0x2475d2b7b80>]"
      ]
     },
     "execution_count": 23,
     "metadata": {},
     "output_type": "execute_result"
    },
    {
     "data": {
      "image/png": "[encoded data removed]",
      "text/plain": [
       "<Figure size 432x288 with 2 Axes>"
      ]
     },
     "metadata": {
      "needs_background": "light"
     },
     "output_type": "display_data"
    }
   ],
   "source": [
    "#sigmoid\n",
    "plt.figure(1)\n",
    "ax1=plt.subplot(1,2,1)\n",
    "x1=torch.arange(-5,5,0.1,requires_grad=True)\n",
    "y1=torch.sigmoid(x1)\n",
    "plt.plot(x1.detach().numpy(),y1.detach().numpy())\n",
    "plt.xlabel('x')\n",
    "plt.ylabel('sigmoid(x)')\n",
    "ax1=plt.subplot(1,2,2)\n",
    "y1.backward(torch.ones_like(x1), retain_graph=True)\n",
    "plt.plot(x1.detach().numpy(),x1.grad)"
   ]
  },
  {
   "cell_type": "code",
   "execution_count": 31,
   "metadata": {},
   "outputs": [],
   "source": [
    "#导入包并加载数据\n",
    "\n",
    "%matplotlib inline\n",
    "import torch\n",
    "import numpy as np\n",
    "import torchvision\n",
    "from torch.utils import data\n",
    "from torchvision import transforms\n",
    "\n",
    "# 通过ToTensor实例将图像数据从PIL类型变换成32位浮点数格式，\n",
    "# 并除以255使得所有像素的数值均在0到1之间\n",
    "trans = transforms.ToTensor()\n",
    "mnist_train = torchvision.datasets.FashionMNIST(\n",
    "root=\"../data\", train=True, transform=trans, download=True)\n",
    "mnist_test = torchvision.datasets.FashionMNIST(\n",
    "root=\"../data\", train=False, transform=trans, download=False)\n",
    "\n",
    "#数据读取\n",
    "batch_size = 256\n",
    "def get_dataloader_workers(): \n",
    "#\"\"\"使⽤4个进程来读取数据\"\"\"\n",
    "    return 4\n",
    "train_iter = data.DataLoader(mnist_train, batch_size, shuffle=True,\n",
    "num_workers=get_dataloader_workers())\n",
    "test_iter = data.DataLoader(mnist_test, batch_size, shuffle=False,\n",
    "num_workers=get_dataloader_workers())\n",
    "\n",
    "#网络设计\n",
    "from torch import nn\n",
    "net=nn.Sequential(nn.Flatten(),nn.Linear(784,512),nn.ReLU(),nn.Linear(512,256),nn.ReLU(),nn.Linear(256,10))\n",
    "\n",
    "#参数初始化\n",
    "def init_weight(m):\n",
    "    if type(m) == nn.Linear:\n",
    "        nn.init.normal_(m.weight, std=0.01)\n",
    "net.apply(init_weight)\n",
    "\n",
    "#softmax与交叉熵结合\n",
    "loss = nn.CrossEntropyLoss(reduction='mean')\n",
    "sgd = torch.optim.SGD(net.parameters(), lr=0.1)\n",
    "\n",
    "\n",
    "def accuracy(y_hat, y):\n",
    "#\"\"\"计算预测正确的数量\"\"\"\n",
    "    if len(y_hat.shape) > 1 and y_hat.shape[1] > 1:\n",
    "        y_hat = y_hat.argmax(axis=1)\n",
    "    cmp = y_hat.type(y.dtype) == y\n",
    "    return float(cmp.type(y.dtype).sum())\n",
    "class Accumulator: \n",
    "#\"\"\"在n个变量上累加\"\"\"\n",
    "    def __init__(self, n):\n",
    "        self.data = [0.0] * n\n",
    "    def add(self, *args):\n",
    "        self.data = [a + float(b) for a, b in zip(self.data, args)]\n",
    "    def reset(self):\n",
    "        self.data = [0.0] * len(self.data)\n",
    "    def __getitem__(self, idx):\n",
    "        return self.data[idx]\n",
    "\n",
    "def evaluate_accuracy(net, data_iter): \n",
    "#\"\"\"计算在指定数据集上模型的精度\"\"\"\n",
    "    if isinstance(net, torch.nn.Module):\n",
    "        net.eval() # 将模型设置为评估模式\n",
    "    metric = Accumulator(2) # 正确预测数、预测总数\n",
    "    with torch.no_grad():\n",
    "        for X, y in data_iter:\n",
    "            metric.add(accuracy(net(X), y), y.numel())\n",
    "    return metric[0] / metric[1]"
   ]
  },
  {
   "cell_type": "code",
   "execution_count": 32,
   "metadata": {},
   "outputs": [
    {
     "name": "stdout",
     "output_type": "stream",
     "text": [
      "0.8968333333333334\n",
      "0.867\n"
     ]
    }
   ],
   "source": [
    "num_epochs=30\n",
    "for epoch in range(num_epochs):\n",
    "    for X,y in train_iter:\n",
    "        y_hat=net(X)\n",
    "        l=loss(y_hat,y)\n",
    "        sgd.zero_grad()\n",
    "        l.backward()\n",
    "        sgd.step()\n",
    "\n",
    "print(evaluate_accuracy(net, train_iter))\n",
    "print(evaluate_accuracy(net, test_iter))"
   ]
  }
 ],
 "metadata": {
  "interpreter": {
   "hash": "5646ec4dec4c73e2edc6806a566893c963d85d6972369737a3a21ba4ee73baa1"
  },
  "kernelspec": {
   "display_name": "Python 3 (ipykernel)",
   "language": "python",
   "name": "python3"
  },
  "language_info": {
   "codemirror_mode": {
    "name": "ipython",
    "version": 3
   },
   "file_extension": ".py",
   "mimetype": "text/x-python",
   "name": "python",
   "nbconvert_exporter": "python",
   "pygments_lexer": "ipython3",
   "version": "3.9.7"
  }
 },
 "nbformat": 4,
 "nbformat_minor": 2
}
