{
 "cells": [
  {
   "cell_type": "code",
   "execution_count": 28,
   "metadata": {},
   "outputs": [],
   "source": [
    "#导入库并产生数据\n",
    "import math\n",
    "import numpy as np\n",
    "import torch\n",
    "from torch.utils import data\n",
    "import random\n",
    "\n",
    "\n",
    "\n",
    "#制造数据集 y=Xw+b+噪声\n",
    "def synthetic_data(w, b, num_examples): \n",
    "    X = torch.normal(0, 1, (num_examples, len(w)))\n",
    "    y = torch.matmul(X, w) + b\n",
    "    y += torch.normal(0, 0.01, y.shape)\n",
    "    return X, y.reshape((-1, 1))\n",
    "\n",
    "#\"\"\"构造⼀个PyTorch数据迭代器\"\"\"\n",
    "def load_array(data_arrays, batch_size, is_train=True): \n",
    "    dataset = data.TensorDataset(*data_arrays)\n",
    "    return data.DataLoader(dataset, batch_size, shuffle=is_train)\n"
   ]
  },
  {
   "cell_type": "code",
   "execution_count": 29,
   "metadata": {},
   "outputs": [],
   "source": [
    "true_w, true_b = torch.ones((200, 1)) * 0.01, 0.05\n",
    "train_data = synthetic_data(true_w, true_b, 20)\n",
    "train_iter = load_array(train_data, 5)\n",
    "test_data = synthetic_data(true_w, true_b, 100)\n",
    "test_iter = load_array(test_data, 5, is_train=False)"
   ]
  },
  {
   "cell_type": "code",
   "execution_count": 30,
   "metadata": {},
   "outputs": [
    {
     "name": "stdout",
     "output_type": "stream",
     "text": [
      "tensor([[0.0100],\n",
      "        [0.0100],\n",
      "        [0.0100],\n",
      "        [0.0100],\n",
      "        [0.0100],\n",
      "        [0.0100],\n",
      "        [0.0100],\n",
      "        [0.0100],\n",
      "        [0.0100],\n",
      "        [0.0100],\n",
      "        [0.0100],\n",
      "        [0.0100],\n",
      "        [0.0100],\n",
      "        [0.0100],\n",
      "        [0.0100],\n",
      "        [0.0100],\n",
      "        [0.0100],\n",
      "        [0.0100],\n",
      "        [0.0100],\n",
      "        [0.0100],\n",
      "        [0.0100],\n",
      "        [0.0100],\n",
      "        [0.0100],\n",
      "        [0.0100],\n",
      "        [0.0100],\n",
      "        [0.0100],\n",
      "        [0.0100],\n",
      "        [0.0100],\n",
      "        [0.0100],\n",
      "        [0.0100],\n",
      "        [0.0100],\n",
      "        [0.0100],\n",
      "        [0.0100],\n",
      "        [0.0100],\n",
      "        [0.0100],\n",
      "        [0.0100],\n",
      "        [0.0100],\n",
      "        [0.0100],\n",
      "        [0.0100],\n",
      "        [0.0100],\n",
      "        [0.0100],\n",
      "        [0.0100],\n",
      "        [0.0100],\n",
      "        [0.0100],\n",
      "        [0.0100],\n",
      "        [0.0100],\n",
      "        [0.0100],\n",
      "        [0.0100],\n",
      "        [0.0100],\n",
      "        [0.0100],\n",
      "        [0.0100],\n",
      "        [0.0100],\n",
      "        [0.0100],\n",
      "        [0.0100],\n",
      "        [0.0100],\n",
      "        [0.0100],\n",
      "        [0.0100],\n",
      "        [0.0100],\n",
      "        [0.0100],\n",
      "        [0.0100],\n",
      "        [0.0100],\n",
      "        [0.0100],\n",
      "        [0.0100],\n",
      "        [0.0100],\n",
      "        [0.0100],\n",
      "        [0.0100],\n",
      "        [0.0100],\n",
      "        [0.0100],\n",
      "        [0.0100],\n",
      "        [0.0100],\n",
      "        [0.0100],\n",
      "        [0.0100],\n",
      "        [0.0100],\n",
      "        [0.0100],\n",
      "        [0.0100],\n",
      "        [0.0100],\n",
      "        [0.0100],\n",
      "        [0.0100],\n",
      "        [0.0100],\n",
      "        [0.0100],\n",
      "        [0.0100],\n",
      "        [0.0100],\n",
      "        [0.0100],\n",
      "        [0.0100],\n",
      "        [0.0100],\n",
      "        [0.0100],\n",
      "        [0.0100],\n",
      "        [0.0100],\n",
      "        [0.0100],\n",
      "        [0.0100],\n",
      "        [0.0100],\n",
      "        [0.0100],\n",
      "        [0.0100],\n",
      "        [0.0100],\n",
      "        [0.0100],\n",
      "        [0.0100],\n",
      "        [0.0100],\n",
      "        [0.0100],\n",
      "        [0.0100],\n",
      "        [0.0100],\n",
      "        [0.0100],\n",
      "        [0.0100],\n",
      "        [0.0100],\n",
      "        [0.0100],\n",
      "        [0.0100],\n",
      "        [0.0100],\n",
      "        [0.0100],\n",
      "        [0.0100],\n",
      "        [0.0100],\n",
      "        [0.0100],\n",
      "        [0.0100],\n",
      "        [0.0100],\n",
      "        [0.0100],\n",
      "        [0.0100],\n",
      "        [0.0100],\n",
      "        [0.0100],\n",
      "        [0.0100],\n",
      "        [0.0100],\n",
      "        [0.0100],\n",
      "        [0.0100],\n",
      "        [0.0100],\n",
      "        [0.0100],\n",
      "        [0.0100],\n",
      "        [0.0100],\n",
      "        [0.0100],\n",
      "        [0.0100],\n",
      "        [0.0100],\n",
      "        [0.0100],\n",
      "        [0.0100],\n",
      "        [0.0100],\n",
      "        [0.0100],\n",
      "        [0.0100],\n",
      "        [0.0100],\n",
      "        [0.0100],\n",
      "        [0.0100],\n",
      "        [0.0100],\n",
      "        [0.0100],\n",
      "        [0.0100],\n",
      "        [0.0100],\n",
      "        [0.0100],\n",
      "        [0.0100],\n",
      "        [0.0100],\n",
      "        [0.0100],\n",
      "        [0.0100],\n",
      "        [0.0100],\n",
      "        [0.0100],\n",
      "        [0.0100],\n",
      "        [0.0100],\n",
      "        [0.0100],\n",
      "        [0.0100],\n",
      "        [0.0100],\n",
      "        [0.0100],\n",
      "        [0.0100],\n",
      "        [0.0100],\n",
      "        [0.0100],\n",
      "        [0.0100],\n",
      "        [0.0100],\n",
      "        [0.0100],\n",
      "        [0.0100],\n",
      "        [0.0100],\n",
      "        [0.0100],\n",
      "        [0.0100],\n",
      "        [0.0100],\n",
      "        [0.0100],\n",
      "        [0.0100],\n",
      "        [0.0100],\n",
      "        [0.0100],\n",
      "        [0.0100],\n",
      "        [0.0100],\n",
      "        [0.0100],\n",
      "        [0.0100],\n",
      "        [0.0100],\n",
      "        [0.0100],\n",
      "        [0.0100],\n",
      "        [0.0100],\n",
      "        [0.0100],\n",
      "        [0.0100],\n",
      "        [0.0100],\n",
      "        [0.0100],\n",
      "        [0.0100],\n",
      "        [0.0100],\n",
      "        [0.0100],\n",
      "        [0.0100],\n",
      "        [0.0100],\n",
      "        [0.0100],\n",
      "        [0.0100],\n",
      "        [0.0100],\n",
      "        [0.0100],\n",
      "        [0.0100],\n",
      "        [0.0100],\n",
      "        [0.0100],\n",
      "        [0.0100],\n",
      "        [0.0100],\n",
      "        [0.0100],\n",
      "        [0.0100],\n",
      "        [0.0100],\n",
      "        [0.0100],\n",
      "        [0.0100],\n",
      "        [0.0100],\n",
      "        [0.0100]])\n"
     ]
    }
   ],
   "source": [
    "print(true_w)"
   ]
  },
  {
   "cell_type": "code",
   "execution_count": 31,
   "metadata": {},
   "outputs": [
    {
     "name": "stdout",
     "output_type": "stream",
     "text": [
      "torch.Size([20, 200])\n",
      "torch.Size([20, 1])\n"
     ]
    }
   ],
   "source": [
    "features,labels=train_data\n",
    "print(features.size())\n",
    "print(labels.size())"
   ]
  },
  {
   "cell_type": "code",
   "execution_count": 32,
   "metadata": {},
   "outputs": [],
   "source": [
    "from torch import nn\n",
    "net=nn.Sequential(nn.Linear(200,1))\n",
    "num_epoch=100\n",
    "def set_sgd(wd):\n",
    "    sgd=torch.optim.SGD([{\"params\":net[0].weight,'weight_decay': wd},\n",
    "{\"params\":net[0].bias}], lr=0.1)\n",
    "    return sgd"
   ]
  },
  {
   "cell_type": "markdown",
   "metadata": {},
   "source": [
    "在pytorch神经网络中已经为我们设置好了超参数，我们可通过改变超参数调整惩罚系数"
   ]
  },
  {
   "cell_type": "code",
   "execution_count": 37,
   "metadata": {},
   "outputs": [],
   "source": [
    "net=nn.Sequential(nn.Linear(200,1))\n",
    "num_epoch=100\n",
    "def set_sgd(wd):\n",
    "    sgd=torch.optim.SGD(net.parameters(), lr=0.1)\n",
    "    return sgd"
   ]
  },
  {
   "cell_type": "code",
   "execution_count": 44,
   "metadata": {},
   "outputs": [],
   "source": [
    "'''\n",
    "现在要定义一个函数，要求：\n",
    "   1.运行完整的神经网络并含惩罚项\n",
    "   2.惩罚系数自定\n",
    "   3.获得每次迭代后的损失\n",
    "   4.画图 \n",
    "   5.每次循环运行测试集\n",
    "'''\n",
    "import matplotlib.pyplot as plt\n",
    "def train_test(wd,num_epoch,net,train_data,train_iter,test_data):\n",
    "    net[0].weight.data.normal_(0, 0.01)\n",
    "    net[0].bias.data.fill_(0)\n",
    "    loss=nn.MSELoss()\n",
    "    sgd=torch.optim.SGD(net.parameters(), lr=0.00003)\n",
    "    features,labels=train_data\n",
    "    err_train=[]\n",
    "    err_test=[]\n",
    "    X_test,y_test=test_data\n",
    "    for epoch in range(num_epoch):\n",
    "        for X,y in train_iter:\n",
    "            l=loss(net(X),y)\n",
    "            sgd.zero_grad()\n",
    "            l.backward()\n",
    "            sgd.step()            \n",
    "        l1=loss(net(features), labels).detach().numpy()\n",
    "        l2=loss(net(X_test), y_test).detach().numpy()\n",
    "        err_train.append(l1)\n",
    "        err_test.append(l2)\n",
    "    print(err_train[-1],err_test[-1])\n",
    "    plt.plot(range(num_epoch),err_train,'o')\n",
    "    plt.plot(range(num_epoch),err_test,'*')\n"
   ]
  },
  {
   "cell_type": "code",
   "execution_count": 53,
   "metadata": {},
   "outputs": [
    {
     "name": "stdout",
     "output_type": "stream",
     "text": [
      "0.020045329 0.035854973\n"
     ]
    },
    {
     "data": {
      "image/png": "[encoded data removed]",
      "text/plain": [
       "<Figure size 432x288 with 1 Axes>"
      ]
     },
     "metadata": {
      "needs_background": "light"
     },
     "output_type": "display_data"
    }
   ],
   "source": [
    "wd=0\n",
    "train_test(wd,num_epoch,net,train_data,train_iter,test_data)"
   ]
  },
  {
   "cell_type": "code",
   "execution_count": 50,
   "metadata": {},
   "outputs": [
    {
     "name": "stdout",
     "output_type": "stream",
     "text": [
      "0.027088776 0.03693889\n"
     ]
    },
    {
     "data": {
      "image/png": "[encoded data removed]",
      "text/plain": [
       "<Figure size 432x288 with 1 Axes>"
      ]
     },
     "metadata": {
      "needs_background": "light"
     },
     "output_type": "display_data"
    }
   ],
   "source": [
    "wd=4\n",
    "train_test(wd,num_epoch,net,train_data,train_iter,test_data)"
   ]
  }
 ],
 "metadata": {
  "interpreter": {
   "hash": "5646ec4dec4c73e2edc6806a566893c963d85d6972369737a3a21ba4ee73baa1"
  },
  "kernelspec": {
   "display_name": "Python 3 (ipykernel)",
   "language": "python",
   "name": "python3"
  },
  "language_info": {
   "codemirror_mode": {
    "name": "ipython",
    "version": 3
   },
   "file_extension": ".py",
   "mimetype": "text/x-python",
   "name": "python",
   "nbconvert_exporter": "python",
   "pygments_lexer": "ipython3",
   "version": "3.9.7"
  }
 },
 "nbformat": 4,
 "nbformat_minor": 2
}
