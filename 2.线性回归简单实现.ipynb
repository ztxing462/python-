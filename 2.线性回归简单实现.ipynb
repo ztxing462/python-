{
 "cells": [
  {
   "cell_type": "code",
   "execution_count": 24,
   "metadata": {},
   "outputs": [],
   "source": [
    "#导入库并产生数据\n",
    "import math\n",
    "import numpy as np\n",
    "import torch\n",
    "from torch.utils import data\n",
    "import random\n",
    "\n",
    "#定义正态分布\n",
    "def normal(x,mu,sigma):\n",
    "    p=1/math.sqrt(2*math.pi*sigma*sigma)\n",
    "    return p*np.exp(-0.5/sigma**2 *(x-mu)**2)\n",
    "\n",
    "#制造数据集 y=Xw+b+噪声\n",
    "def synthetic_data(w, b, num_examples): \n",
    "    X = torch.normal(0, 1, (num_examples, len(w)))\n",
    "    y = torch.matmul(X, w) + b\n",
    "    y += torch.normal(0, 0.01, y.shape)\n",
    "    return X, y.reshape((-1, 1))\n",
    "\n",
    "true_w = torch.tensor([2, -3.4])\n",
    "true_b = 4.2\n",
    "features, labels = synthetic_data(true_w, true_b, 100)"
   ]
  },
  {
   "cell_type": "code",
   "execution_count": 25,
   "metadata": {},
   "outputs": [
    {
     "name": "stdout",
     "output_type": "stream",
     "text": [
      "[tensor([[-0.0973,  1.7949],\n",
      "        [-0.1674,  1.3817],\n",
      "        [-0.3620,  0.7463],\n",
      "        [-0.8949,  0.0140],\n",
      "        [ 2.2519, -1.2528],\n",
      "        [ 0.6971,  0.6998],\n",
      "        [ 1.1333, -1.9965],\n",
      "        [ 0.7712, -0.3163],\n",
      "        [-0.8713, -0.7706],\n",
      "        [-0.6275,  1.0607]]), tensor([[-2.1129],\n",
      "        [-0.8391],\n",
      "        [ 0.9528],\n",
      "        [ 2.3703],\n",
      "        [12.9722],\n",
      "        [ 3.2046],\n",
      "        [13.2660],\n",
      "        [ 6.8286],\n",
      "        [ 5.0957],\n",
      "        [-0.6548]])]\n"
     ]
    }
   ],
   "source": [
    "#\"\"\"构造⼀个PyTorch数据迭代器\"\"\"\n",
    "def load_array(data_arrays, batch_size, is_train=True): \n",
    "    dataset = data.TensorDataset(*data_arrays)\n",
    "    return data.DataLoader(dataset, batch_size, shuffle=is_train)\n",
    "batch_size = 10\n",
    "data_iter = load_array((features, labels), batch_size)\n",
    "print(next(iter(data_iter)))"
   ]
  },
  {
   "cell_type": "code",
   "execution_count": 26,
   "metadata": {},
   "outputs": [],
   "source": [
    "#建立模型\n",
    "from torch import nn\n",
    "#nn.linear第一个参数为输入的特征，第二个为输出量\n",
    "net=nn.Sequential(nn.Linear(2,1))\n",
    "#初始化模型参数\n",
    "net[0].weight.data.normal_(0, 0.01)\n",
    "net[0].bias.data.fill_(0)\n",
    "#定义损失函数\n",
    "loss = nn.MSELoss()\n",
    "#定义优化器\n",
    "sgd=torch.optim.SGD(net.parameters(), lr=0.03)\n"
   ]
  },
  {
   "cell_type": "code",
   "execution_count": 27,
   "metadata": {},
   "outputs": [
    {
     "name": "stdout",
     "output_type": "stream",
     "text": [
      "epoch 1, loss 9.709099\n",
      "epoch 2, loss 3.258214\n",
      "epoch 3, loss 1.118123\n",
      "epoch 4, loss 0.389076\n",
      "epoch 5, loss 0.136190\n",
      "epoch 6, loss 0.048256\n",
      "epoch 7, loss 0.017291\n",
      "epoch 8, loss 0.006289\n",
      "epoch 9, loss 0.002324\n",
      "epoch 10, loss 0.000902\n"
     ]
    }
   ],
   "source": [
    "num_epochs = 10\n",
    "for epoch in range(num_epochs):\n",
    "    for X,y in data_iter:\n",
    "        l=loss(net(X),y)\n",
    "        sgd.zero_grad()\n",
    "        l.backward()\n",
    "        sgd.step()\n",
    "    l=loss(net(features), labels)\n",
    "    print(f'epoch {epoch + 1}, loss {float(l):f}')\n",
    "\n"
   ]
  }
 ],
 "metadata": {
  "interpreter": {
   "hash": "5646ec4dec4c73e2edc6806a566893c963d85d6972369737a3a21ba4ee73baa1"
  },
  "kernelspec": {
   "display_name": "Python 3.9.7 ('base')",
   "language": "python",
   "name": "python3"
  },
  "language_info": {
   "codemirror_mode": {
    "name": "ipython",
    "version": 3
   },
   "file_extension": ".py",
   "mimetype": "text/x-python",
   "name": "python",
   "nbconvert_exporter": "python",
   "pygments_lexer": "ipython3",
   "version": "3.9.7"
  },
  "orig_nbformat": 4
 },
 "nbformat": 4,
 "nbformat_minor": 2
}
