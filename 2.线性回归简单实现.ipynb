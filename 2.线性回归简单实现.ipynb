{
 "cells": [
  {
   "cell_type": "code",
   "execution_count": 17,
   "metadata": {},
   "outputs": [],
   "source": [
    "#导入库并产生数据\n",
    "import math\n",
    "import numpy as np\n",
    "import torch\n",
    "from torch.utils import data\n",
    "import random\n",
    "\n",
    "#定义正态分布\n",
    "def normal(x,mu,sigma):\n",
    "    p=1/math.sqrt(2*math.pi*sigma*sigma)\n",
    "    return p*np.exp(-0.5/sigma**2 *(x-mu)**2)\n",
    "\n",
    "#制造数据集 y=Xw+b+噪声\n",
    "def synthetic_data(w, b, num_examples): \n",
    "    X = torch.normal(0, 1, (num_examples, len(w)))\n",
    "    y = torch.matmul(X, w) + b\n",
    "    y += torch.normal(0, 0.01, y.shape)\n",
    "    return X, y.reshape((-1, 1))\n",
    "\n",
    "true_w = torch.tensor([2, -3.4])\n",
    "true_b = 4.2\n",
    "features, labels = synthetic_data(true_w, true_b, 100)"
   ]
  },
  {
   "cell_type": "code",
   "execution_count": 18,
   "metadata": {},
   "outputs": [
    {
     "name": "stdout",
     "output_type": "stream",
     "text": [
      "[tensor([[ 1.6772,  1.1961],\n",
      "        [ 0.8665,  0.0117],\n",
      "        [ 1.3800,  1.0251],\n",
      "        [-2.1406, -0.6759],\n",
      "        [ 0.3587, -0.3520],\n",
      "        [-1.1786, -0.3054],\n",
      "        [ 1.9313, -0.0846],\n",
      "        [ 0.8176,  0.7768],\n",
      "        [ 0.4668, -1.4426],\n",
      "        [-0.8177,  1.5955]]), tensor([[ 3.4865],\n",
      "        [ 5.8836],\n",
      "        [ 3.4613],\n",
      "        [ 2.2056],\n",
      "        [ 6.1055],\n",
      "        [ 2.8730],\n",
      "        [ 8.3308],\n",
      "        [ 3.1924],\n",
      "        [10.0350],\n",
      "        [-2.8484]])]\n"
     ]
    }
   ],
   "source": [
    "#\"\"\"构造⼀个PyTorch数据迭代器\"\"\"\n",
    "def load_array(data_arrays, batch_size, is_train=True): \n",
    "    dataset = data.TensorDataset(*data_arrays)\n",
    "    return data.DataLoader(dataset, batch_size, shuffle=is_train)\n",
    "batch_size = 10\n",
    "data_iter = load_array((features, labels), batch_size)\n",
    "print(next(iter(data_iter)))"
   ]
  },
  {
   "cell_type": "code",
   "execution_count": 19,
   "metadata": {},
   "outputs": [],
   "source": [
    "#建立模型\n",
    "from torch import nn\n",
    "#nn.linear第一个参数为输入的特征，第二个为输出量\n",
    "net=nn.Sequential(nn.Linear(2,1))\n",
    "#初始化模型参数\n",
    "net[0].weight.data.normal_(0, 0.01)\n",
    "net[0].bias.data.fill_(0)\n",
    "#定义损失函数\n",
    "loss = nn.MSELoss()\n",
    "#定义优化器\n",
    "sgd=torch.optim.SGD(net.parameters(), lr=0.03)\n"
   ]
  },
  {
   "cell_type": "code",
   "execution_count": 20,
   "metadata": {},
   "outputs": [
    {
     "name": "stdout",
     "output_type": "stream",
     "text": [
      "epoch 1, loss 9.775008\n",
      "epoch 2, loss 3.132302\n",
      "epoch 3, loss 1.011569\n",
      "epoch 4, loss 0.325415\n",
      "epoch 5, loss 0.105293\n",
      "epoch 6, loss 0.034051\n",
      "epoch 7, loss 0.011094\n",
      "epoch 8, loss 0.003663\n",
      "epoch 9, loss 0.001266\n",
      "epoch 10, loss 0.000500\n",
      "[tensor([ 2.0000, -3.4000]), 4.2]\n",
      "[tensor([[ 1.9922, -3.3852]]), tensor([4.1860])]\n"
     ]
    }
   ],
   "source": [
    "num_epochs = 10\n",
    "for epoch in range(num_epochs):\n",
    "    for X,y in data_iter:\n",
    "        l=loss(net(X),y)\n",
    "        sgd.zero_grad()\n",
    "        l.backward()\n",
    "        sgd.step()\n",
    "    l=loss(net(features), labels)\n",
    "    print(f'epoch {epoch + 1}, loss {float(l):f}')\n",
    "\n",
    "print([true_w,true_b])\n",
    "print([net[0].weight.data,net[0].bias.data])"
   ]
  },
  {
   "cell_type": "code",
   "execution_count": 21,
   "metadata": {},
   "outputs": [],
   "source": [
    "#建立模型\n",
    "from torch import nn\n",
    "#nn.linear第一个参数为输入的特征，第二个为输出量\n",
    "net=nn.Sequential(nn.Linear(2,1))\n",
    "#初始化模型参数\n",
    "net[0].weight.data.normal_(0, 0.01)\n",
    "net[0].bias.data.fill_(0)\n",
    "#定义损失函数\n",
    "loss = nn.SmoothL1Loss()\n",
    "#定义优化器\n",
    "sgd=torch.optim.SGD(net.parameters(), lr=0.03)\n"
   ]
  },
  {
   "cell_type": "code",
   "execution_count": 22,
   "metadata": {},
   "outputs": [
    {
     "name": "stdout",
     "output_type": "stream",
     "text": [
      "epoch 1, loss 3.798919\n",
      "epoch 2, loss 3.609834\n",
      "epoch 3, loss 3.422261\n",
      "epoch 4, loss 3.236351\n",
      "epoch 5, loss 3.052205\n",
      "epoch 6, loss 2.869768\n",
      "epoch 7, loss 2.689223\n",
      "epoch 8, loss 2.510486\n",
      "epoch 9, loss 2.333822\n",
      "epoch 10, loss 2.159138\n",
      "[tensor([ 2.0000, -3.4000]), 4.2]\n",
      "[tensor([[ 0.7469, -1.0603]]), tensor([1.9512])]\n"
     ]
    }
   ],
   "source": [
    "num_epochs = 10\n",
    "for epoch in range(num_epochs):\n",
    "    for X,y in data_iter:\n",
    "        l=loss(net(X),y)\n",
    "        sgd.zero_grad()\n",
    "        l.backward()\n",
    "        sgd.step()\n",
    "    l=loss(net(features), labels)\n",
    "    print(f'epoch {epoch + 1}, loss {float(l):f}')\n",
    "\n",
    "print([true_w,true_b])\n",
    "print([net[0].weight.data,net[0].bias.data])"
   ]
  }
 ],
 "metadata": {
  "interpreter": {
   "hash": "5646ec4dec4c73e2edc6806a566893c963d85d6972369737a3a21ba4ee73baa1"
  },
  "kernelspec": {
   "display_name": "Python 3.9.7 ('base')",
   "language": "python",
   "name": "python3"
  },
  "language_info": {
   "codemirror_mode": {
    "name": "ipython",
    "version": 3
   },
   "file_extension": ".py",
   "mimetype": "text/x-python",
   "name": "python",
   "nbconvert_exporter": "python",
   "pygments_lexer": "ipython3",
   "version": "3.9.7"
  },
  "orig_nbformat": 4
 },
 "nbformat": 4,
 "nbformat_minor": 2
}
