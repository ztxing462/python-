{
 "cells": [
  {
   "cell_type": "code",
   "execution_count": 1,
   "metadata": {},
   "outputs": [],
   "source": [
    "%matplotlib inline\n",
    "import torch\n",
    "import numpy as np\n",
    "import torchvision\n",
    "from torch.utils import data\n",
    "from torchvision import transforms\n"
   ]
  },
  {
   "cell_type": "code",
   "execution_count": 2,
   "metadata": {},
   "outputs": [],
   "source": [
    "# 通过ToTensor实例将图像数据从PIL类型变换成32位浮点数格式，\n",
    "# 并除以255使得所有像素的数值均在0到1之间\n",
    "trans = transforms.ToTensor()\n",
    "mnist_train = torchvision.datasets.FashionMNIST(\n",
    "root=\"../data\", train=True, transform=trans, download=True)\n",
    "mnist_test = torchvision.datasets.FashionMNIST(\n",
    "root=\"../data\", train=False, transform=trans, download=False)"
   ]
  },
  {
   "cell_type": "code",
   "execution_count": 3,
   "metadata": {},
   "outputs": [
    {
     "data": {
      "text/plain": [
       "torch.Size([1, 28, 28])"
      ]
     },
     "execution_count": 3,
     "metadata": {},
     "output_type": "execute_result"
    }
   ],
   "source": [
    "#数据读取\n",
    "batch_size = 256\n",
    "def get_dataloader_workers(): \n",
    "#\"\"\"使⽤4个进程来读取数据\"\"\"\n",
    "    return 4\n",
    "train_iter = data.DataLoader(mnist_train, batch_size, shuffle=True,\n",
    "num_workers=get_dataloader_workers())\n",
    "test_iter = data.DataLoader(mnist_test, batch_size, shuffle=True,\n",
    "num_workers=get_dataloader_workers())\n",
    "\n",
    "mnist_train[0][0].shape\n"
   ]
  },
  {
   "cell_type": "markdown",
   "metadata": {},
   "source": [
    "在这里，我们可以看到，每个数据都是 1 * 28 * 28 的形式，我们在这里，先将数据展平，每个数据有 28 * 28=784 个特征值。而输出共有10个特征。我们现在设计一层网络，即：输入-输出 网络，则权重为 784  * 10偏重为10 * 1，最终得到1 * 10的向量"
   ]
  },
  {
   "cell_type": "code",
   "execution_count": 4,
   "metadata": {},
   "outputs": [],
   "source": [
    "def accuracy(y_hat, y): #@save\n",
    "#\"\"\"计算预测正确的数量\"\"\"\n",
    "    if len(y_hat.shape) > 1 and y_hat.shape[1] > 1:\n",
    "        y_hat = y_hat.argmax(axis=1)\n",
    "    cmp = y_hat.type(y.dtype) == y\n",
    "    return float(cmp.type(y.dtype).sum())"
   ]
  },
  {
   "cell_type": "code",
   "execution_count": 5,
   "metadata": {},
   "outputs": [],
   "source": [
    "from torch import nn\n",
    "net=nn.Sequential(nn.Linear(784,10))\n",
    "w=net[0].weight.data.normal_(0, 0.01)\n",
    "b=net[0].bias.data.fill_(0)\n",
    "loss=nn.CrossEntropyLoss()\n",
    "sgd=torch.optim.SGD(net.parameters(), lr=0.03)\n"
   ]
  },
  {
   "cell_type": "code",
   "execution_count": 6,
   "metadata": {},
   "outputs": [
    {
     "name": "stderr",
     "output_type": "stream",
     "text": [
      "C:\\Users\\11215\\anaconda3\\lib\\site-packages\\torch\\autograd\\__init__.py:173: UserWarning: CUDA initialization: CUDA driver initialization failed, you might not have a CUDA gpu. (Triggered internally at  C:\\cb\\pytorch_1000000000000\\work\\c10\\cuda\\CUDAFunctions.cpp:112.)\n",
      "  Variable._execution_engine.run_backward(  # Calls into the C++ engine to run the backward pass\n"
     ]
    },
    {
     "name": "stdout",
     "output_type": "stream",
     "text": [
      "epoch 1, loss 从0.1640625到0.8229166666666666\n",
      "epoch 2, loss 从0.75到0.7708333333333334\n",
      "epoch 3, loss 从0.82421875到0.8333333333333334\n",
      "epoch 4, loss 从0.80078125到0.84375\n",
      "epoch 5, loss 从0.828125到0.8229166666666666\n",
      "epoch 6, loss 从0.79296875到0.8333333333333334\n",
      "epoch 7, loss 从0.85546875到0.84375\n",
      "epoch 8, loss 从0.84375到0.8854166666666666\n",
      "epoch 9, loss 从0.83984375到0.7708333333333334\n",
      "epoch 10, loss 从0.85546875到0.84375\n",
      "epoch 11, loss 从0.83984375到0.8333333333333334\n",
      "epoch 12, loss 从0.828125到0.8333333333333334\n",
      "epoch 13, loss 从0.84765625到0.8333333333333334\n",
      "epoch 14, loss 从0.890625到0.8020833333333334\n",
      "epoch 15, loss 从0.890625到0.8333333333333334\n",
      "epoch 16, loss 从0.82421875到0.75\n",
      "epoch 17, loss 从0.7890625到0.8125\n",
      "epoch 18, loss 从0.8671875到0.84375\n",
      "epoch 19, loss 从0.86328125到0.8854166666666666\n",
      "epoch 20, loss 从0.88671875到0.8541666666666666\n",
      "epoch 21, loss 从0.87890625到0.8125\n",
      "epoch 22, loss 从0.84375到0.84375\n",
      "epoch 23, loss 从0.8828125到0.8333333333333334\n",
      "epoch 24, loss 从0.83203125到0.8229166666666666\n",
      "epoch 25, loss 从0.796875到0.8958333333333334\n",
      "epoch 26, loss 从0.8359375到0.84375\n",
      "epoch 27, loss 从0.82421875到0.8541666666666666\n",
      "epoch 28, loss 从0.89453125到0.875\n",
      "epoch 29, loss 从0.88671875到0.875\n",
      "epoch 30, loss 从0.875到0.7604166666666666\n"
     ]
    }
   ],
   "source": [
    "num_epochs=30\n",
    "for epoch in range(num_epochs):\n",
    "    a=[]\n",
    "    for X,y in train_iter:\n",
    "        y_hat=net(X.reshape((-1, w.shape[1])))\n",
    "        l=loss(y_hat,y)\n",
    "        sgd.zero_grad()\n",
    "        l.backward()\n",
    "        sgd.step()\n",
    "        ac=accuracy(y_hat,y)/len(y)\n",
    "        a.append(ac)\n",
    "    print(f'epoch {epoch + 1}, loss 从{a[0]}到{a[-1]}')"
   ]
  },
  {
   "cell_type": "code",
   "execution_count": 7,
   "metadata": {},
   "outputs": [
    {
     "name": "stdout",
     "output_type": "stream",
     "text": [
      "0.8307\n",
      "0.8493\n"
     ]
    }
   ],
   "source": [
    "class Accumulator: \n",
    "#\"\"\"在n个变量上累加\"\"\"\n",
    "    def __init__(self, n):\n",
    "        self.data = [0.0] * n\n",
    "    def add(self, *args):\n",
    "        self.data = [a + float(b) for a, b in zip(self.data, args)]\n",
    "    def reset(self):\n",
    "        self.data = [0.0] * len(self.data)\n",
    "    def __getitem__(self, idx):\n",
    "        return self.data[idx]\n",
    "\n",
    "def evaluate_accuracy(net, data_iter): \n",
    "#\"\"\"计算在指定数据集上模型的精度\"\"\"\n",
    "    if isinstance(net, torch.nn.Module):\n",
    "        net.eval() # 将模型设置为评估模式\n",
    "    metric = Accumulator(2) # 正确预测数、预测总数\n",
    "    with torch.no_grad():\n",
    "        for X, y in data_iter:\n",
    "            metric.add(accuracy(net(X.reshape((-1, w.shape[1]))), y), y.numel())\n",
    "    return metric[0] / metric[1]\n",
    "\n",
    "print(evaluate_accuracy(net, test_iter))\n",
    "print(evaluate_accuracy(net, train_iter))"
   ]
  }
 ],
 "metadata": {
  "interpreter": {
   "hash": "5646ec4dec4c73e2edc6806a566893c963d85d6972369737a3a21ba4ee73baa1"
  },
  "kernelspec": {
   "display_name": "Python 3 (ipykernel)",
   "language": "python",
   "name": "python3"
  },
  "language_info": {
   "codemirror_mode": {
    "name": "ipython",
    "version": 3
   },
   "file_extension": ".py",
   "mimetype": "text/x-python",
   "name": "python",
   "nbconvert_exporter": "python",
   "pygments_lexer": "ipython3",
   "version": "3.9.7"
  }
 },
 "nbformat": 4,
 "nbformat_minor": 2
}
