{
 "cells": [
  {
   "cell_type": "code",
   "execution_count": 1,
   "metadata": {},
   "outputs": [],
   "source": [
    "#导入库并产生数据\n",
    "import math\n",
    "import numpy as np\n",
    "import torch\n",
    "from torch.utils import data\n",
    "import random\n",
    "\n",
    "#定义正态分布\n",
    "def normal(x,mu,sigma):\n",
    "    p=1/math.sqrt(2*math.pi*sigma*sigma)\n",
    "    return p*np.exp(-0.5/sigma**2 *(x-mu)**2)\n",
    "\n",
    "#制造数据集 y=Xw+b+噪声\n",
    "def synthetic_data(w, b, num_examples): \n",
    "    X = torch.normal(0, 1, (num_examples, len(w)))\n",
    "    y = torch.matmul(X, w) + b\n",
    "    y += torch.normal(0, 0.01, y.shape)\n",
    "    return X, y.reshape((-1, 1))\n",
    "\n",
    "#\"\"\"构造⼀个PyTorch数据迭代器\"\"\"\n",
    "def load_array(data_arrays, batch_size, is_train=True): \n",
    "    dataset = data.TensorDataset(*data_arrays)\n",
    "    return data.DataLoader(dataset, batch_size, shuffle=is_train)\n"
   ]
  },
  {
   "cell_type": "code",
   "execution_count": 2,
   "metadata": {},
   "outputs": [],
   "source": [
    "true_w, true_b = torch.ones((200, 1)) * 0.01, 0.05\n",
    "train_data = synthetic_data(true_w, true_b, 20)\n",
    "train_iter = load_array(train_data, 5)\n",
    "test_data = synthetic_data(true_w, true_b, 100)\n",
    "test_iter = load_array(test_data, 5, is_train=False)"
   ]
  },
  {
   "cell_type": "markdown",
   "metadata": {},
   "source": [
    "在pytorch神经网络中已经为我们设置好了超参数，我们可通过改变超参数调整惩罚系数"
   ]
  },
  {
   "cell_type": "code",
   "execution_count": 3,
   "metadata": {},
   "outputs": [],
   "source": [
    "from torch import nn\n",
    "net=nn.Sequential(nn.Linear(20,1))\n",
    "\n",
    "\n",
    "num_epoch=100\n",
    "def set_sgd(wd):\n",
    "    sgd=torch.optim.SGD([{\"params\":net[0].weight,'weight_decay': wd},\n",
    "{\"params\":net[0].bias}], lr=0.1)\n",
    "    return sgd\n"
   ]
  },
  {
   "cell_type": "code",
   "execution_count": null,
   "metadata": {},
   "outputs": [],
   "source": [
    "def train_tr(wd,num_epoch,net,train_data,train_iter):\n",
    "    net[0].weight.data.normal_(0, 0.01)\n",
    "    net[0].bias.data.fill_(0)\n",
    "    loss=nn.MSELoss()\n",
    "    sgd=set_sgd(wd)\n",
    "    features,labels=train_data\n",
    "    \n",
    "    for epoch in range(num_epoch):\n",
    "        for X,y in train_iter:\n",
    "            l=loss(net(X),y)\n",
    "            sgd.zero_grad()\n",
    "            l.backforward()\n",
    "            sgd.step()\n",
    "        l=loss(net(features), labels)\n",
    "\n"
   ]
  }
 ],
 "metadata": {
  "interpreter": {
   "hash": "5646ec4dec4c73e2edc6806a566893c963d85d6972369737a3a21ba4ee73baa1"
  },
  "kernelspec": {
   "display_name": "Python 3.9.7 ('base')",
   "language": "python",
   "name": "python3"
  },
  "language_info": {
   "codemirror_mode": {
    "name": "ipython",
    "version": 3
   },
   "file_extension": ".py",
   "mimetype": "text/x-python",
   "name": "python",
   "nbconvert_exporter": "python",
   "pygments_lexer": "ipython3",
   "version": "3.9.7"
  },
  "orig_nbformat": 4
 },
 "nbformat": 4,
 "nbformat_minor": 2
}
