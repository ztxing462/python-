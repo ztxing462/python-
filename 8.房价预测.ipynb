{
 "cells": [
  {
   "cell_type": "markdown",
   "metadata": {},
   "source": [
    "## 数据导入"
   ]
  },
  {
   "cell_type": "code",
   "execution_count": 44,
   "metadata": {},
   "outputs": [],
   "source": [
    "import pandas as pd\n",
    "all_train_data = pd.read_csv('house-prices-advanced-regression-techniques/train.csv')\n",
    "all_test_data = pd.read_csv('house-prices-advanced-regression-techniques/test.csv')"
   ]
  },
  {
   "cell_type": "markdown",
   "metadata": {},
   "source": [
    "## 数据预处理"
   ]
  },
  {
   "cell_type": "markdown",
   "metadata": {},
   "source": [
    "1.去除无效特征"
   ]
  },
  {
   "cell_type": "code",
   "execution_count": 50,
   "metadata": {},
   "outputs": [
    {
     "name": "stdout",
     "output_type": "stream",
     "text": [
      "(1460, 81)\n",
      "   Id  MSSubClass MSZoning  LotFrontage  LotArea Street Alley LotShape  \\\n",
      "0   1          60       RL         65.0     8450   Pave   NaN      Reg   \n",
      "1   2          20       RL         80.0     9600   Pave   NaN      Reg   \n",
      "2   3          60       RL         68.0    11250   Pave   NaN      IR1   \n",
      "3   4          70       RL         60.0     9550   Pave   NaN      IR1   \n",
      "\n",
      "  LandContour Utilities  ... PoolArea PoolQC Fence MiscFeature MiscVal MoSold  \\\n",
      "0         Lvl    AllPub  ...        0    NaN   NaN         NaN       0      2   \n",
      "1         Lvl    AllPub  ...        0    NaN   NaN         NaN       0      5   \n",
      "2         Lvl    AllPub  ...        0    NaN   NaN         NaN       0      9   \n",
      "3         Lvl    AllPub  ...        0    NaN   NaN         NaN       0      2   \n",
      "\n",
      "  YrSold  SaleType  SaleCondition  SalePrice  \n",
      "0   2008        WD         Normal     208500  \n",
      "1   2007        WD         Normal     181500  \n",
      "2   2008        WD         Normal     223500  \n",
      "3   2006        WD        Abnorml     140000  \n",
      "\n",
      "[4 rows x 81 columns]\n"
     ]
    }
   ],
   "source": [
    "print(all_train_data.shape)\n",
    "print(all_train_data.iloc[0:4,:])"
   ]
  },
  {
   "cell_type": "markdown",
   "metadata": {},
   "source": [
    "查看数据后可知，第一列的ID是无效数据，仅用于数据标注，我们可以将其去除"
   ]
  },
  {
   "cell_type": "code",
   "execution_count": 46,
   "metadata": {},
   "outputs": [
    {
     "name": "stdout",
     "output_type": "stream",
     "text": [
      "(1460, 79)\n",
      "(1459, 79)\n"
     ]
    }
   ],
   "source": [
    "train_fea , train_y ,test_fea=all_train_data.iloc[:, 1:-1],all_test_data.iloc[:,-1],all_test_data.iloc[:, 1:]\n",
    "print(train_fea.shape)\n",
    "print(test_fea.shape)"
   ]
  },
  {
   "cell_type": "markdown",
   "metadata": {},
   "source": [
    "2.数据标准化"
   ]
  },
  {
   "cell_type": "markdown",
   "metadata": {},
   "source": [
    "先将含数字的数据归一化"
   ]
  },
  {
   "cell_type": "code",
   "execution_count": 47,
   "metadata": {},
   "outputs": [
    {
     "name": "stdout",
     "output_type": "stream",
     "text": [
      "(2919, 79)\n"
     ]
    }
   ],
   "source": [
    "all_fea=pd.concat((train_fea,test_fea))\n",
    "num_fea=all_fea.dtypes[all_fea.dtypes!='object'].index\n",
    "all_fea[num_fea] = all_fea[num_fea].apply(lambda x: (x - x.mean()) / (x.std()))\n",
    "# 在标准化数据之后，所有均值消失，因此我们可以将缺失值设置为0\n",
    "all_fea[num_fea] = all_fea[num_fea].fillna(0)\n",
    "print(all_fea.shape)"
   ]
  },
  {
   "cell_type": "markdown",
   "metadata": {},
   "source": [
    "再将离散值化为独热码"
   ]
  },
  {
   "cell_type": "code",
   "execution_count": 49,
   "metadata": {},
   "outputs": [
    {
     "name": "stdout",
     "output_type": "stream",
     "text": [
      "(2919, 331)\n",
      "(1460, 79)\n"
     ]
    }
   ],
   "source": [
    "all_fea = pd.get_dummies(all_fea, dummy_na=True)\n",
    "print(all_fea.shape)\n",
    "print(train_fea.shape)"
   ]
  },
  {
   "cell_type": "code",
   "execution_count": null,
   "metadata": {},
   "outputs": [],
   "source": [
    "'''\n",
    "num_fea=test_fea.dtypes[test_fea.dtypes!='object'].index\n",
    "test_fea[num_fea] = test_fea[num_fea].apply(lambda x: (x - x.mean()) / (x.std()))\n",
    "# 在标准化数据之后，所有均值消失，因此我们可以将缺失值设置为0\n",
    "test_fea[num_fea] = test_fea[num_fea].fillna(0)\n",
    "print(test_fea.shape)\n",
    "test_fea = pd.get_dummies(test_fea, dummy_na=True)\n",
    "print(test_fea.shape)\n",
    "'''"
   ]
  },
  {
   "cell_type": "markdown",
   "metadata": {},
   "source": [
    "这里注意，如果分别处理测试集和训练集，会在独热码后产生不同的特征数，测试集为(1459,313)。这是由测试集的数据导致的。因此，要将测试集和训练集合到一起处理。"
   ]
  },
  {
   "cell_type": "markdown",
   "metadata": {},
   "source": [
    "3.数据转换"
   ]
  },
  {
   "cell_type": "markdown",
   "metadata": {},
   "source": [
    "将处理好的数据转为张量"
   ]
  },
  {
   "cell_type": "code",
   "execution_count": 53,
   "metadata": {},
   "outputs": [],
   "source": [
    "import torch\n",
    "n_train = all_train_data.shape[0]\n",
    "train_features = torch.tensor(all_fea[:n_train].values, dtype=torch.float32)\n",
    "test_features = torch.tensor(all_fea[n_train:].values, dtype=torch.float32)\n",
    "train_labels = torch.tensor(all_train_data.SalePrice.values.reshape(-1, 1), dtype=torch.float32)"
   ]
  },
  {
   "cell_type": "markdown",
   "metadata": {},
   "source": [
    "现在，我们就将训练集中的数据化为可以利用机器学习处理的了。接下来，就可以开始训练模型"
   ]
  },
  {
   "cell_type": "markdown",
   "metadata": {},
   "source": [
    "## 神经网络训练"
   ]
  },
  {
   "cell_type": "markdown",
   "metadata": {},
   "source": [
    "1.首先，我们要确定评价函数\n",
    "\n",
    "这里的损失函数比较特殊。很容易想到，1万元的房价误差对于100万元和10万元的不同房价影响不同。对于前者，我们可以说这个模型训练的还不错，但对于后者，模型就较差。所以常见的平方损失就不太好，我们要测出相对误差。\n",
    "\n",
    "相对误差较小，即 (1-y_hat/y)^2 较小，|y_hat/y| 接近1，取对数后接近0，即对数均方误差\n",
    "\n",
    "但是，注意到，在训练过程中，我们还是用MSE"
   ]
  },
  {
   "cell_type": "code",
   "execution_count": 51,
   "metadata": {},
   "outputs": [],
   "source": [
    "from torch import nn\n",
    "loss = nn.MSELoss()\n",
    "def log_rmse(net, features, labels):\n",
    "# 为了在取对数时进⼀步稳定该值，将⼩于1的值设置为1\n",
    "    clipped_preds = torch.clamp(net(features), 1, float('inf'))\n",
    "    rmse = torch.sqrt(loss(torch.log(clipped_preds),\n",
    "    torch.log(labels)))\n",
    "    return rmse.item()"
   ]
  },
  {
   "cell_type": "markdown",
   "metadata": {},
   "source": [
    "2.训练"
   ]
  },
  {
   "cell_type": "code",
   "execution_count": 67,
   "metadata": {},
   "outputs": [],
   "source": [
    "in_features = train_features.shape[1]\n",
    "net=nn.Sequential(nn.Linear(in_features,1))\n",
    "num_epoch=100\n",
    "def set_sgd(wd):\n",
    "    sgd=torch.optim.SGD([{\"params\":net[0].weight,'weight_decay': wd},\n",
    "{\"params\":net[0].bias}], lr=0.001)\n",
    "    return sgd\n",
    "\n",
    "from torch.utils import data\n",
    "def load_array(data_arrays, batch_size, is_train=True): \n",
    "    dataset = data.TensorDataset(*data_arrays)\n",
    "    return data.DataLoader(dataset, batch_size, shuffle=is_train)\n",
    "\n",
    "batch_size=4\n",
    "train_iter=load_array((train_features, train_labels), batch_size)\n",
    "\n",
    "import matplotlib.pyplot as plt\n",
    "def train_test(wd,num_epoch,net,train_features, train_labels,train_iter):\n",
    "    net[0].weight.data.normal_(0, 0.01)\n",
    "    net[0].bias.data.fill_(0)\n",
    "    loss=nn.MSELoss()\n",
    "    sgd=set_sgd(wd)\n",
    "    err_train=[]\n",
    "    for epoch in range(num_epoch):\n",
    "        for X,y in train_iter:\n",
    "            l=loss(net(X),y)\n",
    "            sgd.zero_grad()\n",
    "            l.backward()\n",
    "            sgd.step()            \n",
    "        l1=log_rmse(net,train_features,train_labels)\n",
    "        err_train.append(l1)\n",
    "    plt.plot(range(num_epoch),err_train,'o')\n",
    "    print(err_train[-1])"
   ]
  },
  {
   "cell_type": "code",
   "execution_count": 68,
   "metadata": {},
   "outputs": [
    {
     "name": "stdout",
     "output_type": "stream",
     "text": [
      "0.1330980509519577\n"
     ]
    },
    {
     "data": {
      "image/png": "[encoded data removed]",
      "text/plain": [
       "<Figure size 432x288 with 1 Axes>"
      ]
     },
     "metadata": {
      "needs_background": "light"
     },
     "output_type": "display_data"
    }
   ],
   "source": [
    "wd=0.0001\n",
    "train_test(wd,num_epoch,net,train_features, train_labels,train_iter)"
   ]
  }
 ],
 "metadata": {
  "interpreter": {
   "hash": "87ffac188fadc01a4d14acef5c417a6df8c8e4a8338a1af98bbe2e09819c5a70"
  },
  "kernelspec": {
   "display_name": "Python 3.9.11 ('pythonProject')",
   "language": "python",
   "name": "python3"
  },
  "language_info": {
   "codemirror_mode": {
    "name": "ipython",
    "version": 3
   },
   "file_extension": ".py",
   "mimetype": "text/x-python",
   "name": "python",
   "nbconvert_exporter": "python",
   "pygments_lexer": "ipython3",
   "version": "3.9.7"
  },
  "orig_nbformat": 4
 },
 "nbformat": 4,
 "nbformat_minor": 2
}
